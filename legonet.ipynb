{
 "cells": [
  {
   "cell_type": "code",
   "execution_count": 102,
   "metadata": {},
   "outputs": [
    {
     "name": "stdout",
     "output_type": "stream",
     "text": [
      "Using cpu device\n",
      "NeuralNetwork(\n",
      "  (flatten): Flatten(start_dim=1, end_dim=-1)\n",
      "  (linear_relu_stack): Sequential(\n",
      "    (0): Linear(in_features=784, out_features=512, bias=True)\n",
      "    (1): ReLU()\n",
      "    (2): Linear(in_features=512, out_features=512, bias=True)\n",
      "    (3): ReLU()\n",
      "    (4): Linear(in_features=512, out_features=10, bias=True)\n",
      "  )\n",
      ")\n"
     ]
    }
   ],
   "source": [
    "import torch\n",
    "from torch import nn\n",
    "from torch.utils.data import DataLoader\n",
    "IMAGE_SIZE = 64\n",
    "IMAGES_PER_CLASS = 2000\n",
    "\n",
    "# Get cpu or gpu device for training.\n",
    "device = \"cuda\" if torch.cuda.is_available() else \"cpu\"\n",
    "print(f\"Using {device} device\")\n",
    "\n",
    "# Define model\n",
    "class NeuralNetwork(nn.Module):\n",
    "    def __init__(self):\n",
    "        super().__init__()\n",
    "        self.flatten = nn.Flatten()\n",
    "        self.linear_relu_stack = nn.Sequential(\n",
    "            nn.Linear(28*28, 512),\n",
    "            nn.ReLU(),\n",
    "            nn.Linear(512, 512),\n",
    "            nn.ReLU(),\n",
    "            nn.Linear(512, 10)\n",
    "        )\n",
    "\n",
    "    def forward(self, x):\n",
    "        x = self.flatten(x)\n",
    "        logits = self.linear_relu_stack(x)\n",
    "        return logits\n",
    "\n",
    "model = NeuralNetwork().to(device)\n",
    "print(model)"
   ]
  },
  {
   "cell_type": "code",
   "execution_count": 103,
   "metadata": {},
   "outputs": [],
   "source": [
    "import os\n",
    "from dotenv import load_dotenv\n",
    "\n",
    "# Load environment variables\n",
    "load_dotenv()\n",
    "try:\n",
    "    API_KEY = os.environ[\"REBRICKABLE_API_KEY\"]\n",
    "except:\n",
    "    print('Please add your Rebrickable API Key to the project as instructed in the README.')"
   ]
  },
  {
   "cell_type": "code",
   "execution_count": 205,
   "metadata": {},
   "outputs": [],
   "source": [
    "import os\n",
    "import pandas as pd\n",
    "from torchvision.io import read_image\n",
    "from torch.utils.data import Dataset\n",
    "from torchvision import datasets\n",
    "from torchvision.transforms import ToTensor\n",
    "import matplotlib.pyplot as plt\n",
    "import cv2\n",
    "import tqdm\n",
    "import requests as r\n",
    "\n",
    "class CustomImageDataset(Dataset):\n",
    "    def __init__(self, dataset_path):\n",
    "\n",
    "        # Init output data\n",
    "        x_data = []\n",
    "        y_data = []\n",
    "        labels = []\n",
    "\n",
    "        encoding = { 'woohoo!': -1 }\n",
    "        \n",
    "        # For each class folder\n",
    "        for label in os.listdir(dataset_path)[:5]:\n",
    "\n",
    "            # Initialize variables to retrieve and store images\n",
    "            curr_path = dataset_path + \"/\" + label\n",
    "\n",
    "            # For each image\n",
    "            for filename in tqdm.tqdm(os.listdir(curr_path)[:IMAGES_PER_CLASS]):\n",
    "\n",
    "                # Store image in tensor representation\n",
    "                image_path = curr_path + \"/\" + filename\n",
    "                image_tensor = read_image(image_path)\n",
    "\n",
    "                # Add tensor to data dictionary\n",
    "                x_data.append(image_tensor / 255.0)\n",
    "                if label not in encoding:\n",
    "                    encoding[label] = max(list(encoding.values())) + 1\n",
    "                y_data.append(encoding[label])\n",
    "                labels.append(label)\n",
    "\n",
    "        self.x_data = x_data\n",
    "        self.y_data = y_data\n",
    "        self.labels = set(labels)\n",
    "\n",
    "        rebrickable_query = 'https://rebrickable.com/api/v3/lego/parts/?key=' + API_KEY + '&part_nums='\n",
    "        for label in self.labels:\n",
    "            rebrickable_query += label + ','\n",
    "\n",
    "        self.brick_info = {}\n",
    "        response = r.get(rebrickable_query).json()\n",
    "        for entry in response['results']:\n",
    "            self.brick_info[entry['part_num']] = entry\n",
    "\n",
    "        self.brick_info = pd.DataFrame(self.brick_info).T\n",
    "\n",
    "    def __len__(self):\n",
    "        assert len(self.x_data) == len(self.y_data)\n",
    "        return len(self.x_data)\n",
    "\n",
    "    def __getitem__(self, idx):\n",
    "        return (self.x_data[idx], self.y_data[idx])"
   ]
  },
  {
   "cell_type": "code",
   "execution_count": 207,
   "metadata": {},
   "outputs": [
    {
     "name": "stderr",
     "output_type": "stream",
     "text": [
      "100%|██████████| 2000/2000 [00:01<00:00, 1004.66it/s]\n",
      "100%|██████████| 2000/2000 [00:01<00:00, 1154.20it/s]\n",
      "100%|██████████| 2000/2000 [00:01<00:00, 1188.25it/s]\n",
      "100%|██████████| 2000/2000 [00:01<00:00, 1219.96it/s]\n",
      "100%|██████████| 2000/2000 [00:01<00:00, 1187.15it/s]\n"
     ]
    }
   ],
   "source": [
    "dataset = CustomImageDataset('dataset')"
   ]
  },
  {
   "cell_type": "code",
   "execution_count": 208,
   "metadata": {},
   "outputs": [
    {
     "data": {
      "text/html": [
       "<div>\n",
       "<style scoped>\n",
       "    .dataframe tbody tr th:only-of-type {\n",
       "        vertical-align: middle;\n",
       "    }\n",
       "\n",
       "    .dataframe tbody tr th {\n",
       "        vertical-align: top;\n",
       "    }\n",
       "\n",
       "    .dataframe thead th {\n",
       "        text-align: right;\n",
       "    }\n",
       "</style>\n",
       "<table border=\"1\" class=\"dataframe\">\n",
       "  <thead>\n",
       "    <tr style=\"text-align: right;\">\n",
       "      <th></th>\n",
       "      <th>part_num</th>\n",
       "      <th>name</th>\n",
       "      <th>part_cat_id</th>\n",
       "      <th>part_url</th>\n",
       "      <th>part_img_url</th>\n",
       "      <th>external_ids</th>\n",
       "      <th>print_of</th>\n",
       "    </tr>\n",
       "  </thead>\n",
       "  <tbody>\n",
       "    <tr>\n",
       "      <th>10247</th>\n",
       "      <td>10247</td>\n",
       "      <td>Plate Special 2 x 2 with 1 Pin Hole [Complete ...</td>\n",
       "      <td>9</td>\n",
       "      <td>https://rebrickable.com/parts/10247/plate-spec...</td>\n",
       "      <td>https://cdn.rebrickable.com/media/parts/elemen...</td>\n",
       "      <td>{'BrickLink': ['10247'], 'BrickOwl': ['268558'...</td>\n",
       "      <td>None</td>\n",
       "    </tr>\n",
       "    <tr>\n",
       "      <th>11090</th>\n",
       "      <td>11090</td>\n",
       "      <td>Bar Holder with Clip</td>\n",
       "      <td>32</td>\n",
       "      <td>https://rebrickable.com/parts/11090/bar-holder...</td>\n",
       "      <td>https://cdn.rebrickable.com/media/parts/elemen...</td>\n",
       "      <td>{'BrickLink': ['11090'], 'BrickOwl': ['112838'...</td>\n",
       "      <td>None</td>\n",
       "    </tr>\n",
       "    <tr>\n",
       "      <th>11211</th>\n",
       "      <td>11211</td>\n",
       "      <td>Brick Special 1 x 2 with 2 Studs on 1 Side</td>\n",
       "      <td>5</td>\n",
       "      <td>https://rebrickable.com/parts/11211/brick-spec...</td>\n",
       "      <td>https://cdn.rebrickable.com/media/parts/elemen...</td>\n",
       "      <td>{'BrickLink': ['11211'], 'BrickOwl': ['929279'...</td>\n",
       "      <td>None</td>\n",
       "    </tr>\n",
       "    <tr>\n",
       "      <th>11212</th>\n",
       "      <td>11212</td>\n",
       "      <td>Plate 3 x 3</td>\n",
       "      <td>14</td>\n",
       "      <td>https://rebrickable.com/parts/11212/plate-3-x-3/</td>\n",
       "      <td>https://cdn.rebrickable.com/media/parts/elemen...</td>\n",
       "      <td>{'BrickLink': ['11212'], 'BrickOwl': ['855115'...</td>\n",
       "      <td>None</td>\n",
       "    </tr>\n",
       "    <tr>\n",
       "      <th>11214</th>\n",
       "      <td>11214</td>\n",
       "      <td>Technic Axle Pin 3L with Friction Ridges Lengt...</td>\n",
       "      <td>53</td>\n",
       "      <td>https://rebrickable.com/parts/11214/technic-ax...</td>\n",
       "      <td>https://cdn.rebrickable.com/media/parts/elemen...</td>\n",
       "      <td>{'BrickLink': ['11214'], 'BrickOwl': ['102238'...</td>\n",
       "      <td>None</td>\n",
       "    </tr>\n",
       "  </tbody>\n",
       "</table>\n",
       "</div>"
      ],
      "text/plain": [
       "      part_num                                               name part_cat_id  \\\n",
       "10247    10247  Plate Special 2 x 2 with 1 Pin Hole [Complete ...           9   \n",
       "11090    11090                               Bar Holder with Clip          32   \n",
       "11211    11211         Brick Special 1 x 2 with 2 Studs on 1 Side           5   \n",
       "11212    11212                                        Plate 3 x 3          14   \n",
       "11214    11214  Technic Axle Pin 3L with Friction Ridges Lengt...          53   \n",
       "\n",
       "                                                part_url  \\\n",
       "10247  https://rebrickable.com/parts/10247/plate-spec...   \n",
       "11090  https://rebrickable.com/parts/11090/bar-holder...   \n",
       "11211  https://rebrickable.com/parts/11211/brick-spec...   \n",
       "11212   https://rebrickable.com/parts/11212/plate-3-x-3/   \n",
       "11214  https://rebrickable.com/parts/11214/technic-ax...   \n",
       "\n",
       "                                            part_img_url  \\\n",
       "10247  https://cdn.rebrickable.com/media/parts/elemen...   \n",
       "11090  https://cdn.rebrickable.com/media/parts/elemen...   \n",
       "11211  https://cdn.rebrickable.com/media/parts/elemen...   \n",
       "11212  https://cdn.rebrickable.com/media/parts/elemen...   \n",
       "11214  https://cdn.rebrickable.com/media/parts/elemen...   \n",
       "\n",
       "                                            external_ids print_of  \n",
       "10247  {'BrickLink': ['10247'], 'BrickOwl': ['268558'...     None  \n",
       "11090  {'BrickLink': ['11090'], 'BrickOwl': ['112838'...     None  \n",
       "11211  {'BrickLink': ['11211'], 'BrickOwl': ['929279'...     None  \n",
       "11212  {'BrickLink': ['11212'], 'BrickOwl': ['855115'...     None  \n",
       "11214  {'BrickLink': ['11214'], 'BrickOwl': ['102238'...     None  "
      ]
     },
     "execution_count": 208,
     "metadata": {},
     "output_type": "execute_result"
    }
   ],
   "source": [
    "dataset.brick_info"
   ]
  },
  {
   "cell_type": "code",
   "execution_count": 241,
   "metadata": {},
   "outputs": [],
   "source": [
    "from torch.utils.data import DataLoader\n",
    "\n",
    "# train_data, test_data = torch.utils.data.random_split(dataset, [320000, 80000])\n",
    "train_data, test_data = torch.utils.data.random_split(dataset, [8000, 2000])\n",
    "train_dataloader = DataLoader(train_data, batch_size=20, shuffle=True)\n",
    "test_dataloader = DataLoader(test_data, batch_size=20, shuffle=True)"
   ]
  },
  {
   "cell_type": "code",
   "execution_count": 242,
   "metadata": {},
   "outputs": [
    {
     "name": "stdout",
     "output_type": "stream",
     "text": [
      "Feature batch shape: torch.Size([20, 3, 64, 64])\n"
     ]
    },
    {
     "data": {
      "image/png": "[encoded data removed]",
      "text/plain": [
       "<Figure size 640x480 with 1 Axes>"
      ]
     },
     "metadata": {},
     "output_type": "display_data"
    },
    {
     "name": "stdout",
     "output_type": "stream",
     "text": [
      "Label: 3\n"
     ]
    }
   ],
   "source": [
    "# Display image and label.\n",
    "train_features, train_labels = next(iter(train_dataloader))\n",
    "print(f\"Feature batch shape: {train_features.shape}\")\n",
    "img = train_features[0].squeeze()\n",
    "label = train_labels[0]\n",
    "plt.imshow(img.T, cmap=\"gray\")\n",
    "plt.show()\n",
    "print(f\"Label: {label}\")"
   ]
  },
  {
   "cell_type": "code",
   "execution_count": 271,
   "metadata": {},
   "outputs": [
    {
     "name": "stdout",
     "output_type": "stream",
     "text": [
      "Net(\n",
      "  (conv1): Conv2d(3, 20, kernel_size=(10, 10), stride=(1, 1))\n",
      "  (conv2): Conv2d(20, 64, kernel_size=(10, 10), stride=(1, 1))\n",
      "  (fc1): Linear(in_features=64, out_features=128, bias=True)\n",
      "  (fc2): Linear(in_features=128, out_features=64, bias=True)\n",
      "  (fc3): Linear(in_features=64, out_features=5, bias=True)\n",
      ")\n"
     ]
    }
   ],
   "source": [
    "import torch\n",
    "import torch.nn as nn\n",
    "import torch.nn.functional as F\n",
    "\n",
    "class Net(nn.Module):\n",
    "\n",
    "    def __init__(self):\n",
    "        super(Net, self).__init__()\n",
    "        # 1 input image channel, 6 output channels, 5x5 square convolution\n",
    "        # kernel\n",
    "        self.conv1 = nn.Conv2d(3, 20, 10)\n",
    "        self.conv2 = nn.Conv2d(20, 64, 10)\n",
    "        # an affine operation: y = Wx + b\n",
    "        self.fc1 = nn.Linear(64, 128)  # 5*5 from image dimension\n",
    "        self.fc2 = nn.Linear(128, 64)\n",
    "        self.fc3 = nn.Linear(64, 5)\n",
    "\n",
    "    def forward(self, x):\n",
    "        # Max pooling over a (2, 2) window\n",
    "        x = F.max_pool2d(F.relu(self.conv1(x)), (5, 5))\n",
    "        # If the size is a square, you can specify with a single number\n",
    "        x = F.max_pool2d(F.relu(self.conv2(x)), 2)\n",
    "        x = torch.flatten(x, 1) # flatten all dimensions except the batch dimension\n",
    "        x = F.relu(self.fc1(x))\n",
    "        x = F.relu(self.fc2(x))\n",
    "        x = self.fc3(x)\n",
    "        return x\n",
    "\n",
    "\n",
    "net = Net().cpu()\n",
    "print(net.to(torch.device('cpu')))"
   ]
  },
  {
   "cell_type": "code",
   "execution_count": 272,
   "metadata": {},
   "outputs": [],
   "source": [
    "import torch.optim as optim\n",
    "\n",
    "criterion = nn.CrossEntropyLoss()\n",
    "optimizer = optim.SGD(net.parameters(), lr=0.001, momentum=0.9)\n",
    "device = torch.device(\"cuda\") if torch.cuda.is_available() else torch.device(\"cpu\")"
   ]
  },
  {
   "cell_type": "code",
   "execution_count": 277,
   "metadata": {},
   "outputs": [
    {
     "name": "stdout",
     "output_type": "stream",
     "text": [
      "[1,   100] loss: 11.988\n",
      "[1,   200] loss: 11.584\n",
      "[1,   300] loss: 11.315\n",
      "[1,   400] loss: 10.832\n",
      "[2,   100] loss: 10.772\n",
      "[2,   200] loss: 10.218\n",
      "[2,   300] loss: 9.937\n",
      "[2,   400] loss: 9.914\n",
      "[3,   100] loss: 9.397\n",
      "[3,   200] loss: 9.361\n",
      "[3,   300] loss: 8.998\n",
      "[3,   400] loss: 8.812\n",
      "[4,   100] loss: 8.720\n",
      "[4,   200] loss: 8.339\n",
      "[4,   300] loss: 8.197\n",
      "[4,   400] loss: 7.593\n",
      "[5,   100] loss: 7.529\n",
      "[5,   200] loss: 7.348\n",
      "[5,   300] loss: 7.218\n",
      "[5,   400] loss: 7.071\n",
      "[6,   100] loss: 6.269\n",
      "[6,   200] loss: 6.310\n",
      "[6,   300] loss: 6.609\n",
      "[6,   400] loss: 6.433\n",
      "[7,   100] loss: 5.854\n",
      "[7,   200] loss: 5.965\n",
      "[7,   300] loss: 5.513\n",
      "[7,   400] loss: 5.358\n",
      "[8,   100] loss: 5.137\n",
      "[8,   200] loss: 5.118\n",
      "[8,   300] loss: 4.595\n",
      "[8,   400] loss: 4.834\n",
      "[9,   100] loss: 4.288\n",
      "[9,   200] loss: 4.575\n",
      "[9,   300] loss: 4.412\n",
      "[9,   400] loss: 3.947\n",
      "[10,   100] loss: 3.677\n",
      "[10,   200] loss: 3.383\n",
      "[10,   300] loss: 3.599\n",
      "[10,   400] loss: 4.301\n"
     ]
    }
   ],
   "source": [
    "for epoch in range(10):  # loop over the dataset multiple times\n",
    "\n",
    "    running_loss = 0.0\n",
    "    for i, data in enumerate(train_dataloader, 0):\n",
    "        inputs, labels = data\n",
    "        \n",
    "        # zero the parameter gradients\n",
    "        optimizer.zero_grad()\n",
    "\n",
    "        # forward + backward + optimize\n",
    "        outputs = net(inputs)\n",
    "        loss = criterion(outputs, labels)\n",
    "        loss.backward()\n",
    "        optimizer.step()\n",
    "\n",
    "        # print statistics\n",
    "        running_loss += loss.item()\n",
    "        if i % 100 == 99:    # print every 2000 mini-batches\n",
    "            print(f'[{epoch + 1}, {i + 1:5d}] loss: {running_loss / 10:.3f}')\n",
    "            running_loss = 0.0"
   ]
  },
  {
   "cell_type": "code",
   "execution_count": 278,
   "metadata": {},
   "outputs": [],
   "source": [
    "correct = 0\n",
    "total = 0\n",
    "# since we're not training, we don't need to calculate the gradients for our outputs\n",
    "with torch.no_grad():\n",
    "    for data in test_dataloader:\n",
    "        images, labels = data\n",
    "        # calculate outputs by running images through the network\n",
    "        outputs = net(images)\n",
    "        # the class with the highest energy is what we choose as prediction\n",
    "        _, predicted = torch.max(outputs.data, 1)\n",
    "        total += labels.size(0)\n",
    "        correct += (predicted == labels).sum().item()"
   ]
  },
  {
   "cell_type": "code",
   "execution_count": null,
   "metadata": {},
   "outputs": [],
   "source": [
    "print(correct)\n",
    "print(total)"
   ]
  }
 ],
 "metadata": {
  "kernelspec": {
   "display_name": "Python 3.7.9 64-bit (microsoft store)",
   "language": "python",
   "name": "python3"
  },
  "language_info": {
   "codemirror_mode": {
    "name": "ipython",
    "version": 3
   },
   "file_extension": ".py",
   "mimetype": "text/x-python",
   "name": "python",
   "nbconvert_exporter": "python",
   "pygments_lexer": "ipython3",
   "version": "3.7.9"
  },
  "orig_nbformat": 4,
  "vscode": {
   "interpreter": {
    "hash": "b6c1a543d5e58b3b00bf3e24285b952ddd7c240367191659860764fe4c29bd22"
   }
  }
 },
 "nbformat": 4,
 "nbformat_minor": 2
}
