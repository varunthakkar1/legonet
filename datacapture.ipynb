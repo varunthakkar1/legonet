{
 "cells": [
  {
   "cell_type": "code",
   "execution_count": 35,
   "metadata": {},
   "outputs": [],
   "source": [
    "import cv2\n",
    "from matplotlib import pyplot as plt\n",
    "count = 1"
   ]
  },
  {
   "cell_type": "code",
   "execution_count": 36,
   "metadata": {},
   "outputs": [],
   "source": [
    "brick_id = input('enter brick ID: ')\n",
    "cap = cv2.VideoCapture(1)\n",
    "success, frame = cap.read() #Capture each frame\n",
    "input('press enter when ready to capture')\n",
    "while success:\n",
    "    output = cv2.resize(frame, (64, 64))\n",
    "    cv2.imwrite('dataset/' + brick_id + '/' + brick_id + '__%d.jpg' % count, output)\n",
    "    cv2.imshow('image capture ' + brick_id, output)     # save frame as JPEG file      \n",
    "    success, frame = cap.read()\n",
    "    count += 1\n",
    "    if cv2.waitKey(1) & 0xFF == ord('q'):\n",
    "        break\n",
    "\n",
    "cap.release()\n",
    "cv2.destroyAllWindows()"
   ]
  }
 ],
 "metadata": {
  "kernelspec": {
   "display_name": "Python 3",
   "language": "python",
   "name": "python3"
  },
  "language_info": {
   "codemirror_mode": {
    "name": "ipython",
    "version": 3
   },
   "file_extension": ".py",
   "mimetype": "text/x-python",
   "name": "python",
   "nbconvert_exporter": "python",
   "pygments_lexer": "ipython3",
   "version": "3.7.9"
  },
  "orig_nbformat": 4,
  "vscode": {
   "interpreter": {
    "hash": "b6c1a543d5e58b3b00bf3e24285b952ddd7c240367191659860764fe4c29bd22"
   }
  }
 },
 "nbformat": 4,
 "nbformat_minor": 2
}
